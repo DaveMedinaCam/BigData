{
 "cells": [
  {
   "cell_type": "markdown",
   "id": "8be65d28",
   "metadata": {},
   "source": [
    "# Análisis de datos masivos con Spark"
   ]
  },
  {
   "cell_type": "code",
   "execution_count": null,
   "id": "36ea8ea0",
   "metadata": {},
   "outputs": [],
   "source": [
    "from pyspark.sql import SparkSession\n",
    "from pyspark.sql.functions import col, avg"
   ]
  },
  {
   "cell_type": "code",
   "execution_count": null,
   "id": "ca10b5a4",
   "metadata": {},
   "outputs": [],
   "source": [
    "spark = SparkSession.builder.appName('AnalisisBigData').getOrCreate()"
   ]
  },
  {
   "cell_type": "code",
   "execution_count": null,
   "id": "b44358c5",
   "metadata": {},
   "outputs": [],
   "source": [
    "df = spark.read.csv('hdfs://namenode:8020/user/hadoop/ventas.csv', header=True, inferSchema=True)"
   ]
  },
  {
   "cell_type": "code",
   "execution_count": null,
   "id": "352f30a2",
   "metadata": {},
   "outputs": [],
   "source": [
    "df.groupBy('categoria').sum('monto').show()"
   ]
  },
  {
   "cell_type": "code",
   "execution_count": null,
   "id": "7fd99034",
   "metadata": {},
   "outputs": [],
   "source": [
    "df.groupBy('pais').agg(avg('monto').alias('promedio_venta')).show()"
   ]
  },
  {
   "cell_type": "code",
   "execution_count": null,
   "id": "ef4515cf",
   "metadata": {},
   "outputs": [],
   "source": [
    "df.filter(col('monto') > 10000).show()"
   ]
  }
 ],
 "metadata": {
  "language_info": {
   "name": "python"
  }
 },
 "nbformat": 4,
 "nbformat_minor": 5
}
