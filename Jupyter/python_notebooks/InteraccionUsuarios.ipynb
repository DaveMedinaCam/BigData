{
 "cells": [
  {
   "cell_type": "markdown",
   "id": "0db3fbcb",
   "metadata": {},
   "source": [
    "Se quiere saber qué naciones tienen mayor indice de conversión, utilizando duración de sesión, número de páginas que ha visto el usuario, y el dispositivo que estaban utilizando"
   ]
  },
  {
   "cell_type": "code",
   "execution_count": 1,
   "id": "0870fc93-9c4b-46db-8815-f349908c5f48",
   "metadata": {},
   "outputs": [],
   "source": [
    "#Se importan las librerias\n",
    "from pyspark.sql import SparkSession\n",
    "from pyspark.sql.functions import *\n",
    "import matplotlib.pyplot as plt\n",
    "import seaborn as sns\n",
    "import pandas as pd"
   ]
  },
  {
   "cell_type": "code",
   "execution_count": 2,
   "id": "b152affb-5bd6-4a09-a7e9-f451a56c8551",
   "metadata": {},
   "outputs": [],
   "source": [
    "#Se inicia sesion de spark\n",
    "spark = SparkSession.builder.appName('UsuarioWeb').getOrCreate()"
   ]
  },
  {
   "cell_type": "code",
   "execution_count": 3,
   "id": "f8a803ff-cc6b-49d2-8b79-84056d39adcf",
   "metadata": {},
   "outputs": [],
   "source": [
    "#Se crea el df\n",
    "df = spark.read.json('hdfs://namenode:8020/user/hadoop/usuarios_web.json', multiLine=True)"
   ]
  },
  {
   "cell_type": "code",
   "execution_count": 5,
   "id": "7745d2f3-90c2-4aa0-8de4-329cf3c78604",
   "metadata": {},
   "outputs": [
    {
     "name": "stdout",
     "output_type": "stream",
     "text": [
      "root\n",
      " |-- conversion: boolean (nullable = true)\n",
      " |-- dispositivo: string (nullable = true)\n",
      " |-- duracion_sesion: double (nullable = true)\n",
      " |-- paginas_vistas: long (nullable = true)\n",
      " |-- pais: string (nullable = true)\n",
      " |-- referencia: string (nullable = true)\n",
      " |-- usuario_id: string (nullable = true)\n",
      "\n"
     ]
    }
   ],
   "source": [
    "df.printSchema()"
   ]
  },
  {
   "cell_type": "code",
   "execution_count": 7,
   "id": "2280244f-95bb-48ac-b71e-8bab21230531",
   "metadata": {},
   "outputs": [
    {
     "name": "stdout",
     "output_type": "stream",
     "text": [
      "+--------------+------------------+\n",
      "|          pais| promedio duracion|\n",
      "+--------------+------------------+\n",
      "|Estados Unidos|33.400689655172414|\n",
      "|        España| 31.55228571428572|\n",
      "|        Canadá|31.235945945945947|\n",
      "|      Colombia|30.105937500000007|\n",
      "|     Argentina| 29.90222222222223|\n",
      "|        México|24.219250000000006|\n",
      "+--------------+------------------+\n",
      "\n"
     ]
    }
   ],
   "source": [
    "#Se calcula el promedio de duracion de sesion por pais\n",
    "df.groupBy('pais').agg(avg('duracion_sesion').alias('promedio duracion')).orderBy('promedio duracion', ascending=False).show()"
   ]
  },
  {
   "cell_type": "code",
   "execution_count": 8,
   "id": "48447709-24ac-4aeb-98fe-8a208c971f92",
   "metadata": {},
   "outputs": [
    {
     "name": "stdout",
     "output_type": "stream",
     "text": [
      "+-----------+------------------+\n",
      "|dispositivo| promedio duracion|\n",
      "+-----------+------------------+\n",
      "|      Móvil|34.576451612903234|\n",
      "|Computadora|28.008695652173913|\n",
      "|     Tablet|27.418260869565213|\n",
      "+-----------+------------------+\n",
      "\n"
     ]
    }
   ],
   "source": [
    "#Se calcula el promedio de duracion de sesion por dispositivo\n",
    "df.groupBy('dispositivo').agg(avg('duracion_sesion').alias('promedio duracion')).orderBy('promedio duracion', ascending=False).show()"
   ]
  },
  {
   "cell_type": "code",
   "execution_count": 9,
   "id": "a6cf8378-39a7-4076-83cc-e07ba7c30583",
   "metadata": {},
   "outputs": [
    {
     "name": "stdout",
     "output_type": "stream",
     "text": [
      "+-----------+-----------------------+\n",
      "|dispositivo|promedio paginas vistas|\n",
      "+-----------+-----------------------+\n",
      "|      Móvil|      8.790322580645162|\n",
      "|Computadora|       8.36231884057971|\n",
      "|     Tablet|      7.521739130434782|\n",
      "+-----------+-----------------------+\n",
      "\n"
     ]
    }
   ],
   "source": [
    "#Se calcula el promedio de paginas vistas por dispositivo\n",
    "df.groupBy('dispositivo').agg(avg('paginas_vistas').alias('promedio paginas vistas')).orderBy('promedio paginas vistas', ascending=False).show()"
   ]
  },
  {
   "cell_type": "code",
   "execution_count": 10,
   "id": "edf65d8c-966b-47f8-aa93-da1b997bef78",
   "metadata": {},
   "outputs": [
    {
     "name": "stdout",
     "output_type": "stream",
     "text": [
      "+------------------------+-----------------------+\n",
      "|promedio duracion sesion|promedio paginas vistas|\n",
      "+------------------------+-----------------------+\n",
      "|      31.155980392156863|      8.470588235294118|\n",
      "+------------------------+-----------------------+\n",
      "\n"
     ]
    }
   ],
   "source": [
    "#Se crea un df solo con los usuarios convertidos y se calcula el promedio de duracion de sesion y paginas vistas\n",
    "conv = df.filter(col('conversion') == True)\n",
    "conv.select(avg('duracion_sesion').alias('promedio duracion sesion'), avg('paginas_vistas').alias('promedio paginas vistas')).show()"
   ]
  },
  {
   "cell_type": "code",
   "execution_count": 11,
   "id": "d6ac6486-a938-4ccf-bd5c-23bb2b41f83c",
   "metadata": {},
   "outputs": [
    {
     "name": "stdout",
     "output_type": "stream",
     "text": [
      "+--------------+-----+\n",
      "|          pais|count|\n",
      "+--------------+-----+\n",
      "|        Canadá|   20|\n",
      "|        México|   20|\n",
      "|Estados Unidos|   17|\n",
      "|      Colombia|   17|\n",
      "|        España|   15|\n",
      "|     Argentina|   13|\n",
      "+--------------+-----+\n",
      "\n"
     ]
    }
   ],
   "source": [
    "#De los usuarios convertidos se agrupan por pais\n",
    "conv.groupBy(\"pais\").count().orderBy(\"count\", ascending=False).show()"
   ]
  },
  {
   "cell_type": "code",
   "execution_count": 12,
   "id": "b5a5b74b-21ac-4cc5-93aa-723efa06253d",
   "metadata": {},
   "outputs": [
    {
     "name": "stdout",
     "output_type": "stream",
     "text": [
      "+--------------+-----+\n",
      "|    referencia|count|\n",
      "+--------------+-----+\n",
      "|       Anuncio|   27|\n",
      "|      Orgánico|   26|\n",
      "|       Directo|   25|\n",
      "|Redes Sociales|   24|\n",
      "+--------------+-----+\n",
      "\n"
     ]
    }
   ],
   "source": [
    "#Se agrupa por referencia los usuarios convertidos\n",
    "conv.groupBy(\"referencia\").count().orderBy(\"count\", ascending=False).show()"
   ]
  },
  {
   "cell_type": "markdown",
   "id": "da24cfa6-beec-45d0-9995-ef7c28a8a7ac",
   "metadata": {},
   "source": [
    "La tasa de fuente de tráfico que genera más conversiones son los Anuncios y Orgánico.\n",
    "Aunque México cuenta con el menor tiempo promedio de duración de sesión, empata con Canadá por el país con más conversiones. Esto indica que la población de México es más susceptible a realizar alguna acción dentro de la página web.\n",
    "Con esta información se podría tomar el territorio mexicano como un buen lugar para probar campañas publicitarias antes de sacarles globalmente."
   ]
  },
  {
   "cell_type": "code",
   "execution_count": null,
   "id": "1b48edc3-50c8-4cb4-8193-648e41411de1",
   "metadata": {},
   "outputs": [],
   "source": []
  }
 ],
 "metadata": {
  "kernelspec": {
   "display_name": "Python 3 (ipykernel)",
   "language": "python",
   "name": "python3"
  },
  "language_info": {
   "codemirror_mode": {
    "name": "ipython",
    "version": 3
   },
   "file_extension": ".py",
   "mimetype": "text/x-python",
   "name": "python",
   "nbconvert_exporter": "python",
   "pygments_lexer": "ipython3",
   "version": "3.11.6"
  }
 },
 "nbformat": 4,
 "nbformat_minor": 5
}
