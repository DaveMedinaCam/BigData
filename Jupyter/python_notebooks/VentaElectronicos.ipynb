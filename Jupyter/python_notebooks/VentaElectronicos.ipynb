{
 "cells": [
  {
   "cell_type": "markdown",
   "id": "bc22087b-09e4-4c09-b1f2-586fe36fbc8f",
   "metadata": {},
   "source": [
    "El objetivo es introducir nuevos productos que tengan una buena posibilidad de ser disruptivos en una cadena de tiendas de tecnología. Para eso se quiere analizar el rendimiento actual de los productos vendidos."
   ]
  },
  {
   "cell_type": "code",
   "execution_count": 19,
   "id": "a939b257-40e0-4d0b-89cf-4c7ee3e8620f",
   "metadata": {},
   "outputs": [],
   "source": [
    "#Se importan librerias\n",
    "import xml.etree.ElementTree as ET\n",
    "import pandas as pd\n",
    "import matplotlib.pyplot as plt\n",
    "import seaborn as sns"
   ]
  },
  {
   "cell_type": "code",
   "execution_count": 2,
   "id": "093c0d22-6cc7-4f26-aaaa-d8fc100dd6fd",
   "metadata": {},
   "outputs": [],
   "source": [
    "#Se parsea el xml\n",
    "tree = ET.parse('ventas_electronicos.xml')\n",
    "root = tree.getroot()"
   ]
  },
  {
   "cell_type": "code",
   "execution_count": 3,
   "id": "1f246dc7-bbcf-4d0b-8f25-26d1a53ad1b9",
   "metadata": {},
   "outputs": [],
   "source": [
    "#Se extraen los datos a lista\n",
    "data = []\n",
    "for ingreso in root.findall(\".//Venta\"):\n",
    "    record = {\n",
    "        \"VentaID\": ingreso.find(\"VentaID\").text,\n",
    "        \"Fecha\": ingreso.find(\"Fecha\").text,\n",
    "        \"Tienda\": ingreso.find(\"Tienda\").text,\n",
    "        \"Producto\": ingreso.find(\"Producto\").text,\n",
    "        \"Categoria\": ingreso.find(\"Categoria\").text,\n",
    "        \"Precio\": ingreso.find(\"Precio\").text,\n",
    "        \"Cantidad\": ingreso.find(\"Cantidad\").text,\n",
    "        \"Total\": ingreso.find(\"Total\").text\n",
    "    }\n",
    "    data.append(record)"
   ]
  },
  {
   "cell_type": "code",
   "execution_count": 4,
   "id": "32756f8d-4bad-4b18-aae2-6a3084fff415",
   "metadata": {},
   "outputs": [],
   "source": [
    "#Se convierte la lista a df\n",
    "df = pd.DataFrame(data)"
   ]
  },
  {
   "cell_type": "code",
   "execution_count": 5,
   "id": "84e2ac3a-b1dc-492e-bc05-19178608ac34",
   "metadata": {},
   "outputs": [
    {
     "name": "stdout",
     "output_type": "stream",
     "text": [
      "<class 'pandas.core.frame.DataFrame'>\n",
      "RangeIndex: 200 entries, 0 to 199\n",
      "Data columns (total 8 columns):\n",
      " #   Column     Non-Null Count  Dtype \n",
      "---  ------     --------------  ----- \n",
      " 0   VentaID    200 non-null    object\n",
      " 1   Fecha      200 non-null    object\n",
      " 2   Tienda     200 non-null    object\n",
      " 3   Producto   200 non-null    object\n",
      " 4   Categoria  200 non-null    object\n",
      " 5   Precio     200 non-null    object\n",
      " 6   Cantidad   200 non-null    object\n",
      " 7   Total      200 non-null    object\n",
      "dtypes: object(8)\n",
      "memory usage: 12.6+ KB\n"
     ]
    }
   ],
   "source": [
    "df.info()"
   ]
  },
  {
   "cell_type": "code",
   "execution_count": 6,
   "id": "5c8248d4-0643-4168-b7e2-c47e46425d3a",
   "metadata": {},
   "outputs": [
    {
     "data": {
      "text/html": [
       "<div>\n",
       "<style scoped>\n",
       "    .dataframe tbody tr th:only-of-type {\n",
       "        vertical-align: middle;\n",
       "    }\n",
       "\n",
       "    .dataframe tbody tr th {\n",
       "        vertical-align: top;\n",
       "    }\n",
       "\n",
       "    .dataframe thead th {\n",
       "        text-align: right;\n",
       "    }\n",
       "</style>\n",
       "<table border=\"1\" class=\"dataframe\">\n",
       "  <thead>\n",
       "    <tr style=\"text-align: right;\">\n",
       "      <th></th>\n",
       "      <th>VentaID</th>\n",
       "      <th>Fecha</th>\n",
       "      <th>Tienda</th>\n",
       "      <th>Producto</th>\n",
       "      <th>Categoria</th>\n",
       "      <th>Precio</th>\n",
       "      <th>Cantidad</th>\n",
       "      <th>Total</th>\n",
       "    </tr>\n",
       "  </thead>\n",
       "  <tbody>\n",
       "    <tr>\n",
       "      <th>0</th>\n",
       "      <td>1</td>\n",
       "      <td>2025-04-03</td>\n",
       "      <td>DigitalStore Oeste</td>\n",
       "      <td>Smart TV LG 55'</td>\n",
       "      <td>Televisores</td>\n",
       "      <td>1200.00</td>\n",
       "      <td>5</td>\n",
       "      <td>6000.00</td>\n",
       "    </tr>\n",
       "    <tr>\n",
       "      <th>1</th>\n",
       "      <td>2</td>\n",
       "      <td>2025-04-10</td>\n",
       "      <td>ElectroPlus Norte</td>\n",
       "      <td>Tablet iPad Air</td>\n",
       "      <td>Tablets</td>\n",
       "      <td>599.00</td>\n",
       "      <td>3</td>\n",
       "      <td>1797.00</td>\n",
       "    </tr>\n",
       "    <tr>\n",
       "      <th>2</th>\n",
       "      <td>3</td>\n",
       "      <td>2025-04-07</td>\n",
       "      <td>TecnoMarket Sur</td>\n",
       "      <td>Cámara Canon EOS M50</td>\n",
       "      <td>Fotografía</td>\n",
       "      <td>850.75</td>\n",
       "      <td>4</td>\n",
       "      <td>3403.00</td>\n",
       "    </tr>\n",
       "    <tr>\n",
       "      <th>3</th>\n",
       "      <td>4</td>\n",
       "      <td>2025-04-01</td>\n",
       "      <td>TecnoMarket Sur</td>\n",
       "      <td>Disco Duro Externo 2TB</td>\n",
       "      <td>Almacenamiento</td>\n",
       "      <td>89.95</td>\n",
       "      <td>3</td>\n",
       "      <td>269.85</td>\n",
       "    </tr>\n",
       "    <tr>\n",
       "      <th>4</th>\n",
       "      <td>5</td>\n",
       "      <td>2025-04-01</td>\n",
       "      <td>ElectroMax Centro</td>\n",
       "      <td>Cámara Canon EOS M50</td>\n",
       "      <td>Fotografía</td>\n",
       "      <td>850.75</td>\n",
       "      <td>5</td>\n",
       "      <td>4253.75</td>\n",
       "    </tr>\n",
       "  </tbody>\n",
       "</table>\n",
       "</div>"
      ],
      "text/plain": [
       "  VentaID       Fecha              Tienda                Producto  \\\n",
       "0       1  2025-04-03  DigitalStore Oeste         Smart TV LG 55'   \n",
       "1       2  2025-04-10   ElectroPlus Norte         Tablet iPad Air   \n",
       "2       3  2025-04-07     TecnoMarket Sur    Cámara Canon EOS M50   \n",
       "3       4  2025-04-01     TecnoMarket Sur  Disco Duro Externo 2TB   \n",
       "4       5  2025-04-01   ElectroMax Centro    Cámara Canon EOS M50   \n",
       "\n",
       "        Categoria   Precio Cantidad    Total  \n",
       "0     Televisores  1200.00        5  6000.00  \n",
       "1         Tablets   599.00        3  1797.00  \n",
       "2      Fotografía   850.75        4  3403.00  \n",
       "3  Almacenamiento    89.95        3   269.85  \n",
       "4      Fotografía   850.75        5  4253.75  "
      ]
     },
     "execution_count": 6,
     "metadata": {},
     "output_type": "execute_result"
    }
   ],
   "source": [
    "df.head()"
   ]
  },
  {
   "cell_type": "code",
   "execution_count": 12,
   "id": "1a68ba30-4e6d-4350-875f-00bb64a612fd",
   "metadata": {},
   "outputs": [],
   "source": [
    "#Se convierte columnas con datos numericos a tipo correcto\n",
    "df['VentaID'] = pd.to_numeric(df['VentaID'].astype('Int64'))\n",
    "df['Fecha'] = pd.to_datetime(df['Fecha'])\n",
    "df['Precio'] = pd.to_numeric(df['Precio'])\n",
    "df['Cantidad'] = pd.to_numeric(df['Cantidad'].astype('Int64'))\n",
    "df['Total'] = pd.to_numeric(df['Total'])"
   ]
  },
  {
   "cell_type": "code",
   "execution_count": 13,
   "id": "6521fad6-0ff2-4652-9fac-14f72a249b98",
   "metadata": {},
   "outputs": [
    {
     "name": "stdout",
     "output_type": "stream",
     "text": [
      "<class 'pandas.core.frame.DataFrame'>\n",
      "RangeIndex: 200 entries, 0 to 199\n",
      "Data columns (total 8 columns):\n",
      " #   Column     Non-Null Count  Dtype         \n",
      "---  ------     --------------  -----         \n",
      " 0   VentaID    200 non-null    Int64         \n",
      " 1   Fecha      200 non-null    datetime64[ns]\n",
      " 2   Tienda     200 non-null    object        \n",
      " 3   Producto   200 non-null    object        \n",
      " 4   Categoria  200 non-null    object        \n",
      " 5   Precio     200 non-null    float64       \n",
      " 6   Cantidad   200 non-null    Int64         \n",
      " 7   Total      200 non-null    float64       \n",
      "dtypes: Int64(2), datetime64[ns](1), float64(2), object(3)\n",
      "memory usage: 13.0+ KB\n"
     ]
    }
   ],
   "source": [
    "df.info()"
   ]
  },
  {
   "cell_type": "code",
   "execution_count": 17,
   "id": "d265ed71-1451-4119-ae76-3276ba8c8502",
   "metadata": {},
   "outputs": [
    {
     "data": {
      "text/plain": [
       "Categoria\n",
       "Fotografía        29\n",
       "Videojuegos       25\n",
       "Almacenamiento    24\n",
       "Smartphones       21\n",
       "Laptops           20\n",
       "Televisores       19\n",
       "Redes             17\n",
       "Monitores         17\n",
       "Audio             15\n",
       "Tablets           13\n",
       "Name: count, dtype: int64"
      ]
     },
     "execution_count": 17,
     "metadata": {},
     "output_type": "execute_result"
    }
   ],
   "source": [
    "#Se identifica la variedad de productos por categoría\n",
    "df['Categoria'].value_counts().sort_values(ascending=False)"
   ]
  },
  {
   "cell_type": "code",
   "execution_count": 18,
   "id": "3cde91df-3143-4d20-b77f-64b844ac77d1",
   "metadata": {},
   "outputs": [
    {
     "data": {
      "text/plain": [
       "Categoria\n",
       "Televisores       1200.00\n",
       "Laptops           1099.50\n",
       "Fotografía         850.75\n",
       "Smartphones        799.99\n",
       "Tablets            599.00\n",
       "Videojuegos        499.99\n",
       "Audio              299.99\n",
       "Monitores          249.99\n",
       "Redes              189.99\n",
       "Almacenamiento      89.95\n",
       "Name: Precio, dtype: float64"
      ]
     },
     "execution_count": 18,
     "metadata": {},
     "output_type": "execute_result"
    }
   ],
   "source": [
    "#Se calcula el precio promedio por cada categoría\n",
    "df.groupby('Categoria')['Precio'].mean().sort_values(ascending=False)"
   ]
  },
  {
   "cell_type": "code",
   "execution_count": 31,
   "id": "abbb328d-6193-4ca5-a21d-d24f4c289804",
   "metadata": {},
   "outputs": [
    {
     "name": "stdout",
     "output_type": "stream",
     "text": [
      "Categoria\n",
      "Almacenamiento     1.822012\n",
      "Audio              3.579336\n",
      "Fotografía        21.245730\n",
      "Laptops           18.305166\n",
      "Monitores          3.190859\n",
      "Redes              2.477740\n",
      "Smartphones       13.540715\n",
      "Tablets            6.814561\n",
      "Televisores       17.647546\n",
      "Videojuegos       11.376335\n",
      "Name: Total, dtype: float64\n"
     ]
    }
   ],
   "source": [
    "#Se calcula el porcentaje de ventas por categoría\n",
    "ventas_cat = df.groupby('Categoria')['Total'].sum()\n",
    "total_ventas = df['Total'].sum()\n",
    "porc_cat = (ventas_cat / total_ventas)*100\n",
    "print(porc_cat)"
   ]
  },
  {
   "cell_type": "code",
   "execution_count": 27,
   "id": "e231dcfe-ae93-427e-83b8-9686bfd26a1a",
   "metadata": {},
   "outputs": [
    {
     "data": {
      "text/plain": [
       "Text(0.5, 0, '%')"
      ]
     },
     "execution_count": 27,
     "metadata": {},
     "output_type": "execute_result"
    },
    {
     "data": {
      "image/png": "[encoded data removed]",
      "text/plain": [
       "<Figure size 640x480 with 1 Axes>"
      ]
     },
     "metadata": {},
     "output_type": "display_data"
    }
   ],
   "source": [
    "porc_cat.sort_values().plot(kind='barh', color='cadetblue')\n",
    "plt.title('Porcentaje de ventas por Categoria')\n",
    "plt.xlabel('%')"
   ]
  },
  {
   "cell_type": "code",
   "execution_count": null,
   "id": "b8dc68b4-a1d8-4e74-be08-1cb35098c43f",
   "metadata": {},
   "outputs": [],
   "source": [
    "La fotografía es la categoría lider en volumen y ventas, lo que nos indica una demanda constante que ha\n",
    "sido satisfecha por la variedad de productos que se venden. \n",
    "La baja cantidad de ventas en Tablets  podría indicar una oportunidad para un producto disruptivo que redefina \n",
    "el uso de las tablets, quizás enfocándose en nichos específicos (educación, productividad móvil especializada) o integrándolas de formas novedosas con otros dispositivos.\n"
   ]
  }
 ],
 "metadata": {
  "kernelspec": {
   "display_name": "Python 3 (ipykernel)",
   "language": "python",
   "name": "python3"
  },
  "language_info": {
   "codemirror_mode": {
    "name": "ipython",
    "version": 3
   },
   "file_extension": ".py",
   "mimetype": "text/x-python",
   "name": "python",
   "nbconvert_exporter": "python",
   "pygments_lexer": "ipython3",
   "version": "3.11.6"
  }
 },
 "nbformat": 4,
 "nbformat_minor": 5
}
