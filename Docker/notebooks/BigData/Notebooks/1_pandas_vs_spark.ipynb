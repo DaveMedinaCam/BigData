{
 "cells": [
  {
   "cell_type": "markdown",
   "id": "f6844e00",
   "metadata": {},
   "source": [
    "# Comparación entre Pandas y Spark"
   ]
  },
  {
   "cell_type": "code",
   "execution_count": 1,
   "id": "b26e0da5",
   "metadata": {},
   "outputs": [],
   "source": [
    "import pandas as pd\n",
    "from pyspark.sql import SparkSession"
   ]
  },
  {
   "cell_type": "code",
   "execution_count": 2,
   "id": "2963807c",
   "metadata": {},
   "outputs": [],
   "source": [
    "spark = SparkSession.builder.appName('PandasVSpark').getOrCreate()"
   ]
  },
  {
   "cell_type": "code",
   "execution_count": 3,
   "id": "2a7810ca",
   "metadata": {},
   "outputs": [],
   "source": [
    "# Simulamos un gran DataFrame"
   ]
  },
  {
   "cell_type": "code",
   "execution_count": 4,
   "id": "8d8314f4",
   "metadata": {},
   "outputs": [],
   "source": [
    "data = {'id': list(range(1, 100001)), 'valor': list(range(100001, 200001))}"
   ]
  },
  {
   "cell_type": "code",
   "execution_count": 5,
   "id": "0e787acb",
   "metadata": {},
   "outputs": [],
   "source": [
    "pdf = pd.DataFrame(data)\n",
    "sdf = spark.createDataFrame(pdf)"
   ]
  },
  {
   "cell_type": "code",
   "execution_count": 6,
   "id": "3094fc9f",
   "metadata": {},
   "outputs": [
    {
     "name": "stdout",
     "output_type": "stream",
     "text": [
      "Pandas media: 150000.5\n"
     ]
    }
   ],
   "source": [
    "print('Pandas media:', pdf['valor'].mean())"
   ]
  },
  {
   "cell_type": "code",
   "execution_count": 7,
   "id": "9b594cad",
   "metadata": {},
   "outputs": [
    {
     "name": "stdout",
     "output_type": "stream",
     "text": [
      "+----------+\n",
      "|avg(valor)|\n",
      "+----------+\n",
      "|  150000.5|\n",
      "+----------+\n",
      "\n"
     ]
    }
   ],
   "source": [
    "sdf.selectExpr('avg(valor)').show()"
   ]
  },
  {
   "cell_type": "code",
   "execution_count": null,
   "id": "29110891-49a2-42e4-972c-ffff52525802",
   "metadata": {},
   "outputs": [],
   "source": []
  }
 ],
 "metadata": {
  "kernelspec": {
   "display_name": "Python 3 (ipykernel)",
   "language": "python",
   "name": "python3"
  },
  "language_info": {
   "codemirror_mode": {
    "name": "ipython",
    "version": 3
   },
   "file_extension": ".py",
   "mimetype": "text/x-python",
   "name": "python",
   "nbconvert_exporter": "python",
   "pygments_lexer": "ipython3",
   "version": "3.11.6"
  }
 },
 "nbformat": 4,
 "nbformat_minor": 5
}
