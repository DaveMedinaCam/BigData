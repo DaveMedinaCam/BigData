{
 "cells": [
  {
   "cell_type": "markdown",
   "id": "8be65d28",
   "metadata": {},
   "source": [
    "# Análisis de datos masivos con Spark"
   ]
  },
  {
   "cell_type": "code",
   "execution_count": 3,
   "id": "36ea8ea0",
   "metadata": {},
   "outputs": [],
   "source": [
    "from pyspark.sql import SparkSession\n",
    "from pyspark.sql.functions import col, avg"
   ]
  },
  {
   "cell_type": "code",
   "execution_count": 4,
   "id": "ca10b5a4",
   "metadata": {},
   "outputs": [],
   "source": [
    "spark = SparkSession.builder.appName('AnalisisBigData').getOrCreate()"
   ]
  },
  {
   "cell_type": "code",
   "execution_count": 5,
   "id": "b44358c5",
   "metadata": {},
   "outputs": [],
   "source": [
    "df = spark.read.csv('hdfs://namenode:8020/user/hadoop/ventas.csv', header=True, inferSchema=True)"
   ]
  },
  {
   "cell_type": "code",
   "execution_count": 6,
   "id": "352f30a2",
   "metadata": {},
   "outputs": [
    {
     "name": "stdout",
     "output_type": "stream",
     "text": [
      "+-----------+------------------+\n",
      "|  categoria|        sum(monto)|\n",
      "+-----------+------------------+\n",
      "|     Libros|3702.2999999999997|\n",
      "|   Deportes|3726.8999999999996|\n",
      "|       Ropa|            3653.1|\n",
      "|Electronica|            3628.5|\n",
      "|  Alimentos|3677.7000000000003|\n",
      "+-----------+------------------+\n",
      "\n"
     ]
    }
   ],
   "source": [
    "df.groupBy('categoria').sum('monto').show()"
   ]
  },
  {
   "cell_type": "code",
   "execution_count": 10,
   "id": "7fd99034",
   "metadata": {},
   "outputs": [
    {
     "name": "stdout",
     "output_type": "stream",
     "text": [
      "+---------+------------------+\n",
      "|     pais|    promedio_venta|\n",
      "+---------+------------------+\n",
      "|Argentina|           181.425|\n",
      "|     Peru|183.88500000000002|\n",
      "|    Chile|           182.655|\n",
      "|   Mexico|185.11499999999998|\n",
      "| Colombia|186.34499999999997|\n",
      "+---------+------------------+\n",
      "\n"
     ]
    }
   ],
   "source": [
    "df.groupBy('pais').agg(avg('monto').alias('promedio_venta')).show(9)"
   ]
  },
  {
   "cell_type": "code",
   "execution_count": 16,
   "id": "ef4515cf",
   "metadata": {},
   "outputs": [
    {
     "name": "stdout",
     "output_type": "stream",
     "text": [
      "+---+---------+-----------+-----+----------+\n",
      "| id|     pais|  categoria|monto|     fecha|\n",
      "+---+---------+-----------+-----+----------+\n",
      "| 11|Argentina|Electronica|135.3|2023-01-11|\n",
      "+---+---------+-----------+-----+----------+\n",
      "\n"
     ]
    }
   ],
   "source": [
    "df.filter(col('monto') == 135.3).show()"
   ]
  },
  {
   "cell_type": "code",
   "execution_count": null,
   "id": "7adc4954-3b76-4dc9-9e71-ed9eae282341",
   "metadata": {},
   "outputs": [],
   "source": []
  }
 ],
 "metadata": {
  "kernelspec": {
   "display_name": "Python 3 (ipykernel)",
   "language": "python",
   "name": "python3"
  },
  "language_info": {
   "codemirror_mode": {
    "name": "ipython",
    "version": 3
   },
   "file_extension": ".py",
   "mimetype": "text/x-python",
   "name": "python",
   "nbconvert_exporter": "python",
   "pygments_lexer": "ipython3",
   "version": "3.11.6"
  }
 },
 "nbformat": 4,
 "nbformat_minor": 5
}
