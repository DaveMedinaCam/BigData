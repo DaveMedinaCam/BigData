{
 "cells": [
  {
   "cell_type": "markdown",
   "id": "0b4be232",
   "metadata": {},
   "source": [
    "# Visualización de muestra de Big Data"
   ]
  },
  {
   "cell_type": "code",
   "execution_count": null,
   "id": "463cb3ce",
   "metadata": {},
   "outputs": [],
   "source": [
    "import pandas as pd\n",
    "import seaborn as sns\n",
    "import matplotlib.pyplot as plt"
   ]
  },
  {
   "cell_type": "code",
   "execution_count": null,
   "id": "a3c36fd0",
   "metadata": {},
   "outputs": [],
   "source": [
    "from pyspark.sql import SparkSession\n",
    "spark = SparkSession.builder.appName('Visualizacion').getOrCreate()"
   ]
  },
  {
   "cell_type": "code",
   "execution_count": null,
   "id": "58d4ccdb",
   "metadata": {},
   "outputs": [],
   "source": [
    "df = spark.read.csv('hdfs://namenode:8020/user/hadoop/ventas.csv', header=True, inferSchema=True)"
   ]
  },
  {
   "cell_type": "code",
   "execution_count": null,
   "id": "354526b3",
   "metadata": {},
   "outputs": [],
   "source": [
    "df_sample = df.limit(1000).toPandas()"
   ]
  },
  {
   "cell_type": "code",
   "execution_count": null,
   "id": "8ddb1e25",
   "metadata": {},
   "outputs": [],
   "source": [
    "sns.histplot(df_sample['monto'], bins=50, kde=True)\n",
    "plt.title('Distribución de montos')\n",
    "plt.show()"
   ]
  },
  {
   "cell_type": "code",
   "execution_count": null,
   "id": "9c4314dd",
   "metadata": {},
   "outputs": [],
   "source": [
    "sns.boxplot(x='categoria', y='monto', data=df_sample)\n",
    "plt.xticks(rotation=45)\n",
    "plt.title('Distribución por categoría')\n",
    "plt.show()"
   ]
  }
 ],
 "metadata": {
  "language_info": {
   "name": "python"
  }
 },
 "nbformat": 4,
 "nbformat_minor": 5
}
