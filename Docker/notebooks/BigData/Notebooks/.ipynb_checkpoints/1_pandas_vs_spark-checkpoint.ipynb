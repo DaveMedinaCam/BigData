{
 "cells": [
  {
   "cell_type": "markdown",
   "id": "f6844e00",
   "metadata": {},
   "source": [
    "# Comparación entre Pandas y Spark"
   ]
  },
  {
   "cell_type": "code",
   "execution_count": null,
   "id": "b26e0da5",
   "metadata": {},
   "outputs": [],
   "source": [
    "import pandas as pd\n",
    "from pyspark.sql import SparkSession"
   ]
  },
  {
   "cell_type": "code",
   "execution_count": null,
   "id": "2963807c",
   "metadata": {},
   "outputs": [],
   "source": [
    "spark = SparkSession.builder.appName('PandasVSpark').getOrCreate()"
   ]
  },
  {
   "cell_type": "code",
   "execution_count": null,
   "id": "2a7810ca",
   "metadata": {},
   "outputs": [],
   "source": [
    "# Simulamos un gran DataFrame"
   ]
  },
  {
   "cell_type": "code",
   "execution_count": null,
   "id": "8d8314f4",
   "metadata": {},
   "outputs": [],
   "source": [
    "data = {'id': list(range(1, 100001)), 'valor': list(range(100001, 200001))}"
   ]
  },
  {
   "cell_type": "code",
   "execution_count": null,
   "id": "0e787acb",
   "metadata": {},
   "outputs": [],
   "source": [
    "pdf = pd.DataFrame(data)\n",
    "sdf = spark.createDataFrame(pdf)"
   ]
  },
  {
   "cell_type": "code",
   "execution_count": null,
   "id": "3094fc9f",
   "metadata": {},
   "outputs": [],
   "source": [
    "print('Pandas media:', pdf['valor'].mean())"
   ]
  },
  {
   "cell_type": "code",
   "execution_count": null,
   "id": "9b594cad",
   "metadata": {},
   "outputs": [],
   "source": [
    "sdf.selectExpr('avg(valor)').show()"
   ]
  }
 ],
 "metadata": {},
 "nbformat": 4,
 "nbformat_minor": 5
}
